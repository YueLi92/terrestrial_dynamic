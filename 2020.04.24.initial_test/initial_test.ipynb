{
 "cells": [
  {
   "cell_type": "code",
   "execution_count": 4,
   "metadata": {},
   "outputs": [
    {
     "output_type": "stream",
     "name": "stdout",
     "text": "hello, this is initial python3 test!\n"
    }
   ],
   "source": [
    "msg = \"hello, this is initial python3 test!\"\n",
    "print(msg)"
   ]
  },
  {
   "cell_type": "code",
   "execution_count": 3,
   "metadata": {},
   "outputs": [
    {
     "output_type": "stream",
     "name": "stdout",
     "text": "one more\n"
    }
   ],
   "source": [
    "msg2 = \"one more\"\n",
    "print(msg2)"
   ]
  },
  {
   "cell_type": "code",
   "execution_count": 5,
   "metadata": {},
   "outputs": [
    {
     "output_type": "stream",
     "name": "stdout",
     "text": "Another test\n"
    }
   ],
   "source": [
    "msg3 = \"Another test\"\n",
    "print(msg3)"
   ]
  },
  {
   "cell_type": "code",
   "execution_count": null,
   "metadata": {},
   "outputs": [],
   "source": []
  }
 ],
 "metadata": {
  "language_info": {
   "codemirror_mode": {
    "name": "ipython",
    "version": 3
   },
   "file_extension": ".py",
   "mimetype": "text/x-python",
   "name": "python",
   "nbconvert_exporter": "python",
   "pygments_lexer": "ipython3",
   "version": "3.7.7-final"
  },
  "orig_nbformat": 2,
  "kernelspec": {
   "name": "python37764bitlyscienceconda096cecfd77254d92a45c27c2c4034700",
   "display_name": "Python 3.7.7 64-bit ('lyscience': conda)"
  }
 },
 "nbformat": 4,
 "nbformat_minor": 2
}